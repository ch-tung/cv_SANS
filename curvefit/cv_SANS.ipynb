{
 "cells": [
  {
   "cell_type": "markdown",
   "id": "6fe387b5",
   "metadata": {},
   "source": [
    "# Determining Population Densities and Intramicellar Distributions by Contrast Variation SANS"
   ]
  },
  {
   "cell_type": "code",
   "execution_count": 1,
   "id": "f2acf031",
   "metadata": {},
   "outputs": [],
   "source": [
    "# Chi-Huan Tung\n",
    "# National Tsing-Hua University\n",
    "# Aug 2021\n",
    "#\n",
    "# Fit the I(Q) curve with soft ball P(Q) in J. Chem. Phys. 153, 184902 (2020)\n",
    "# Calculate polymer distribution by contrast variation\n",
    "#\n",
    "# tensorflow 2.6.0"
   ]
  },
  {
   "cell_type": "markdown",
   "id": "00710f64",
   "metadata": {},
   "source": [
    "## Setup"
   ]
  },
  {
   "cell_type": "markdown",
   "id": "770b7f93",
   "metadata": {},
   "source": [
    "Ensure you have installed these packages first  \n",
    "``$ pip install tensorflow-probabilit``  \n",
    "``$ pip install imageio``  \n",
    "``$ pip install git+https://github.com/tensorflow/docs``  "
   ]
  },
  {
   "cell_type": "code",
   "execution_count": 2,
   "id": "b1284943",
   "metadata": {},
   "outputs": [],
   "source": [
    "from IPython import display\n",
    "\n",
    "import glob\n",
    "import imageio\n",
    "import matplotlib.pyplot as plt\n",
    "import numpy as np\n",
    "import PIL\n",
    "import tensorflow as tf\n",
    "import tensorflow_probability as tfp\n",
    "import time\n",
    "import scipy.interpolate as interp\n",
    "tf.config.run_functions_eagerly(True)"
   ]
  },
  {
   "cell_type": "markdown",
   "id": "a8e04362",
   "metadata": {},
   "source": [
    "## Load data"
   ]
  },
  {
   "cell_type": "code",
   "execution_count": 3,
   "id": "cc8dba2f",
   "metadata": {},
   "outputs": [],
   "source": [
    "def is_header(x):\n",
    "    n_header = 5\n",
    "    return x>=n_header"
   ]
  },
  {
   "cell_type": "code",
   "execution_count": 4,
   "id": "020a778a",
   "metadata": {},
   "outputs": [],
   "source": [
    "def get_struct_unpacker(fieldspecs, istart, iwidth):\n",
    "    \"\"\"\n",
    "    Build the format string for struct.unpack to use, based on the fieldspecs.\n",
    "    fieldspecs is a list of [name, start, width] arrays.\n",
    "    Returns a string like \"6s2s3s7x7s4x9s\".\n",
    "    \"\"\"\n",
    "    unpack_len = 0\n",
    "    unpack_fmt = \"\"\n",
    "    for fieldspec in fieldspecs:\n",
    "        start = fieldspec[istart] - 1\n",
    "        end = start + fieldspec[iwidth]\n",
    "        if start > unpack_len:\n",
    "            unpack_fmt += str(start - unpack_len) + \"x\"\n",
    "        unpack_fmt += str(end - start) + \"s\"\n",
    "        unpack_len = end\n",
    "    struct_unpacker = struct.Struct(unpack_fmt).unpack_from\n",
    "    return struct_unpacker"
   ]
  },
  {
   "cell_type": "code",
   "execution_count": 7,
   "id": "b4eba6a9",
   "metadata": {},
   "outputs": [],
   "source": [
    "fieldspecs = [\n",
    "    # Name, Start, Width, Type\n",
    "    [\"Q (1/A)\", 8, 8, float],\n",
    "    [\"I(Q) (1/cm)\", 26, 6, float],\n",
    "    [\"std. dev. I(Q) (1/cm)\", 40, 8, float],\n",
    "    [\"sigmaQ\", 55, 9, float],\n",
    "    [\"meanQ\", 72, 8, float],\n",
    "    [\"ShadowFactor\", 95, 1, int]\n",
    "]\n",
    "\n",
    "iname, istart, iwidth, itype = 0, 1, 2, 3  # field indexes\n",
    "\n",
    "from operator import itemgetter\n",
    "import struct\n",
    "fieldspecs.sort(key=itemgetter(istart))\n",
    "struct_unpacker = get_struct_unpacker(fieldspecs, istart, iwidth)\n",
    "field_indices = range(len(fieldspecs))"
   ]
  },
  {
   "cell_type": "code",
   "execution_count": 14,
   "id": "6a575ae5",
   "metadata": {
    "scrolled": true
   },
   "outputs": [
    {
     "name": "stdout",
     "output_type": "stream",
     "text": [
      "loaded ../data/S2/S2_100.ABS\n",
      "loaded ../data/S2/S2_095.ABS\n",
      "loaded ../data/S2/S2_090.ABS\n",
      "loaded ../data/S2/S2_085.ABS\n",
      "loaded ../data/S2/S2_080.ABS\n",
      "loaded ../data/S2/S2_075.ABS\n"
     ]
    }
   ],
   "source": [
    "data_path = '../data/S2/'\n",
    "contrasts = np.array([100, 95, 90, 85, 80, 75])\n",
    "\n",
    "for i, contrast in enumerate(contrasts):\n",
    "    filename = data_path + 'S2_{:03d}.ABS'.format(contrast)\n",
    "    with open(filename,'r') as fp:\n",
    "        lines = fp.readlines()\n",
    "\n",
    "    index_all = range(len(lines))\n",
    "    index = list(filter(is_header, index_all))\n",
    "    \n",
    "    lines_data = list(itemgetter(*index)(lines))\n",
    "    \n",
    "    data_dict = {}\n",
    "    for j, ld in enumerate(lines_data):\n",
    "        raw_fields = struct_unpacker(ld.encode())\n",
    "        ld_unpacked = {}\n",
    "        for i in field_indices:\n",
    "            fieldspec = fieldspecs[i]\n",
    "            fieldname = fieldspec[iname]\n",
    "            cast = fieldspec[itype]\n",
    "            value = cast(raw_fields[i].decode().strip())\n",
    "            ld_unpacked[fieldname] = [value]\n",
    "        if j==0:\n",
    "            data_dict = ld_unpacked\n",
    "            continue\n",
    "        data_dict = {key: [*data_dict[key], *ld_unpacked[key]] for key in data_dict}\n",
    "    \n",
    "    print('loaded '+ filename)"
   ]
  },
  {
   "cell_type": "code",
   "execution_count": null,
   "id": "156c5732",
   "metadata": {},
   "outputs": [],
   "source": []
  }
 ],
 "metadata": {
  "kernelspec": {
   "display_name": "Python 3",
   "language": "python",
   "name": "python3"
  },
  "language_info": {
   "codemirror_mode": {
    "name": "ipython",
    "version": 3
   },
   "file_extension": ".py",
   "mimetype": "text/x-python",
   "name": "python",
   "nbconvert_exporter": "python",
   "pygments_lexer": "ipython3",
   "version": "3.8.11"
  }
 },
 "nbformat": 4,
 "nbformat_minor": 5
}
